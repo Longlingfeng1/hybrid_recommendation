{
 "cells": [
  {
   "cell_type": "code",
   "execution_count": 6,
   "metadata": {},
   "outputs": [],
   "source": [
    "from collections import defaultdict\n",
    "from functools import reduce\n",
    "import random\n",
    "import sys\n",
    "import os\n",
    "\n",
    "project_root_path = '/Users/lyc/hybrid_recommendation'\n",
    "user = {}\n",
    "tv = {}\n",
    "file_path = os.path.join(project_root_path, 'collaborative_filtering/data/noclassified/score_nolimit.txt')\n",
    "\n",
    "with open(file_path, \"r\", encoding=\"utf-8\") as f:\n",
    "    for line in f.readlines():\n",
    "        line = line.strip()\n",
    "        line = line.split(\",\")\n",
    "        if line[0] not in user:\n",
    "            user[line[0]] = []\n",
    "            user[line[0]].append(line[1])\n",
    "        else:\n",
    "            user[line[0]].append(line[1])\n",
    "        if line[1] not in tv:\n",
    "            tv[line[1]] = []\n",
    "            tv[line[1]].append(line[0])\n",
    "        else:\n",
    "            tv[line[1]].append(line[0])"
   ]
  },
  {
   "cell_type": "code",
   "execution_count": 7,
   "metadata": {},
   "outputs": [
    {
     "name": "stdout",
     "output_type": "stream",
     "text": [
      "用户数量:113230,节目数量:12848\n"
     ]
    }
   ],
   "source": [
    "#用户数量,电影数量\n",
    "print(\"用户数量:%s,节目数量:%s\" % (len(user),len(tv)))"
   ]
  },
  {
   "cell_type": "code",
   "execution_count": 8,
   "metadata": {},
   "outputs": [
    {
     "name": "stdout",
     "output_type": "stream",
     "text": [
      "观看大于等于1的人数:113230\n",
      "观看大于等于2的人数:90880\n",
      "观看大于等于3的人数:73355\n",
      "观看大于等于4的人数:59128\n",
      "观看大于等于5的人数:47615\n",
      "观看大于等于6的人数:38174\n",
      "观看大于等于7的人数:30702\n",
      "观看大于等于8的人数:24471\n",
      "观看大于等于9的人数:19616\n",
      "观看大于等于10的人数:15567\n"
     ]
    }
   ],
   "source": [
    "for i in [1,2,3,4,5,6,7,8,9,10]:\n",
    "    print(\"观看大于等于%s的人数:%s\" % (i,len(list(filter(lambda x: len(x[1]) >= i , user.items())))))"
   ]
  },
  {
   "cell_type": "code",
   "execution_count": 9,
   "metadata": {
    "collapsed": true
   },
   "outputs": [],
   "source": [
    "#观看数大于6的观众\n",
    "user_6 = dict(filter(lambda x: len(x[1]) >= 6 , user.items()))"
   ]
  },
  {
   "cell_type": "code",
   "execution_count": 10,
   "metadata": {},
   "outputs": [
    {
     "name": "stdout",
     "output_type": "stream",
     "text": [
      "93.06506849315068\n"
     ]
    }
   ],
   "source": [
    "#核心用户观看的节目的覆盖率\n",
    "temp = []\n",
    "for item in user_6.items():\n",
    "    temp.extend(item[1])\n",
    "print(len(set(temp)) / len(tv) * 100)"
   ]
  },
  {
   "cell_type": "code",
   "execution_count": 11,
   "metadata": {},
   "outputs": [
    {
     "data": {
      "text/plain": [
       "38174"
      ]
     },
     "execution_count": 11,
     "metadata": {},
     "output_type": "execute_result"
    }
   ],
   "source": [
    "len(user_6)"
   ]
  },
  {
   "cell_type": "code",
   "execution_count": 12,
   "metadata": {
    "collapsed": true
   },
   "outputs": [],
   "source": [
    "#推荐个数\n",
    "RECOMMEND_NUM = 5\n",
    "TEST_SIZE = 3"
   ]
  },
  {
   "cell_type": "code",
   "execution_count": 13,
   "metadata": {
    "collapsed": true
   },
   "outputs": [],
   "source": [
    "tv_slist = sorted(tv.items(),key=lambda x: len(x[1]),reverse=True)"
   ]
  },
  {
   "cell_type": "code",
   "execution_count": 18,
   "metadata": {},
   "outputs": [
    {
     "name": "stdout",
     "output_type": "stream",
     "text": [
      "节目名称:6542,观看用户数:17557\n",
      "节目名称:3765,观看用户数:15220\n",
      "节目名称:1453,观看用户数:15182\n",
      "节目名称:8343,观看用户数:8648\n",
      "节目名称:10661,观看用户数:8394\n"
     ]
    }
   ],
   "source": [
    "#最热门的节目\n",
    "hot_tv = []\n",
    "for i,item in enumerate(tv_slist):\n",
    "    if i < RECOMMEND_NUM:\n",
    "        print(\"节目名称:%s,观看用户数:%s\"%(item[0],len(item[1])))\n",
    "        hot_tv.append(item[0])"
   ]
  },
  {
   "cell_type": "code",
   "execution_count": 19,
   "metadata": {
    "collapsed": true
   },
   "outputs": [],
   "source": [
    "hot_precision_all = []\n",
    "hot_recall_all = []\n",
    "for item in user.items():\n",
    "    count = 0\n",
    "    for u_t in item[1][:3]:\n",
    "        if u_t in hot_tv:\n",
    "            count += 1\n",
    "#     for i in [1,2,3]:\n",
    "#         index = random.randint(0,len(item[1])-1)\n",
    "#         if item[1][index] in hot_tv:\n",
    "#             count += 1\n",
    "    hot_precision_all.append(count / RECOMMEND_NUM)\n",
    "    hot_recall_all.append(count / TEST_SIZE)"
   ]
  },
  {
   "cell_type": "code",
   "execution_count": 20,
   "metadata": {},
   "outputs": [
    {
     "name": "stdout",
     "output_type": "stream",
     "text": [
      "热门推荐top5:\n",
      "准确率:0.06963702199060011\n",
      "召回率:0.11606170331776516\n",
      "f1-score:0.08704627748827778\n"
     ]
    }
   ],
   "source": [
    "mean_hot_precision = reduce(lambda x,y:x+y,hot_precision_all) / len(hot_precision_all)\n",
    "mean_hot_recall = reduce(lambda x,y:x+y,hot_recall_all) / len(hot_recall_all)\n",
    "hot_f1 = (2 * mean_hot_precision * mean_hot_recall) / (mean_hot_precision + mean_hot_recall)\n",
    "print(\"热门推荐top%s:\" % RECOMMEND_NUM)\n",
    "print(\"准确率:%s\" % mean_hot_precision)\n",
    "print(\"召回率:%s\" % mean_hot_recall)\n",
    "print(\"f1-score:%s\" % hot_f1)"
   ]
  },
  {
   "cell_type": "code",
   "execution_count": 21,
   "metadata": {
    "collapsed": true
   },
   "outputs": [],
   "source": [
    "tv_all = [item[0] for item in tv.items()]"
   ]
  },
  {
   "cell_type": "code",
   "execution_count": 22,
   "metadata": {
    "collapsed": true
   },
   "outputs": [],
   "source": [
    "random_precision_all = []\n",
    "random_recall_all = []\n",
    "for item in user.items():\n",
    "    count = 0\n",
    "    random_recommend = random.sample(tv_all,RECOMMEND_NUM)\n",
    "    for u_t in item[1]:\n",
    "        if u_t in random_recommend:\n",
    "            count += 1\n",
    "    random_precision_all.append(count / RECOMMEND_NUM)\n",
    "    random_recall_all.append(count / TEST_SIZE)"
   ]
  },
  {
   "cell_type": "code",
   "execution_count": 23,
   "metadata": {},
   "outputs": [
    {
     "name": "stdout",
     "output_type": "stream",
     "text": [
      "随机推荐5个节目\n",
      "准确率:0.000372692749271395\n",
      "召回率:0.0006211545821189915\n",
      "f1-score:0.00046586593658924375\n"
     ]
    }
   ],
   "source": [
    "mean_random_precision = reduce(lambda x,y:x+y,random_precision_all) / len(random_precision_all)\n",
    "mean_random_recall = reduce(lambda x,y:x+y,random_recall_all) / len(random_recall_all)\n",
    "random_f1 = (2 * mean_random_precision * mean_random_recall) / (mean_random_precision + mean_random_recall)\n",
    "print(\"随机推荐%s个节目\" % RECOMMEND_NUM)\n",
    "print(\"准确率:%s\" % mean_random_precision)\n",
    "print(\"召回率:%s\" % mean_random_recall)\n",
    "print(\"f1-score:%s\" % random_f1)"
   ]
  },
  {
   "cell_type": "code",
   "execution_count": null,
   "metadata": {
    "collapsed": true
   },
   "outputs": [],
   "source": []
  },
  {
   "cell_type": "code",
   "execution_count": null,
   "metadata": {
    "collapsed": true
   },
   "outputs": [],
   "source": []
  }
 ],
 "metadata": {
  "kernelspec": {
   "display_name": "Python 3",
   "language": "python",
   "name": "python3"
  },
  "language_info": {
   "codemirror_mode": {
    "name": "ipython",
    "version": 3
   },
   "file_extension": ".py",
   "mimetype": "text/x-python",
   "name": "python",
   "nbconvert_exporter": "python",
   "pygments_lexer": "ipython3",
   "version": "3.5.4"
  }
 },
 "nbformat": 4,
 "nbformat_minor": 2
}
